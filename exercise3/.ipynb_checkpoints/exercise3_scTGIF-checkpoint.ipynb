{
 "cells": [
  {
   "cell_type": "markdown",
   "metadata": {
    "colab_type": "text",
    "id": "5fCEDCU_qrC0"
   },
   "source": [
    "<p><img alt=\"logo\" width=\"200\" src=\"https://dl.dropboxusercontent.com/s/tyyu8xr9qy8en4l/sctgif.png\" align=\"left\" /></p>\n",
    "\n",
    "<h1>Exercise3: scTGIFのデモ</h1>\n",
    "\n",
    "\n",
    "このノートブックでは、細胞型が不明な1細胞RNA-Seqデータに、関連するマーカー遺伝子や機能タームを割り当てることで、細胞型判定をサポートするためのR/Bioconductorパッケージ、scTGIFの使い方について説明します"
   ]
  },
  {
   "cell_type": "markdown",
   "metadata": {},
   "source": [
    "まずは、このノートブックの実行に必要なパッケージのインストールとロードを行います"
   ]
  },
  {
   "cell_type": "code",
   "execution_count": null,
   "metadata": {
    "colab": {
     "height": 420
    },
    "colab_type": "code",
    "id": "xitplqMNk_Hc",
    "outputId": "ed4f60d2-878d-4056-c438-352dac39a112",
    "scrolled": true
   },
   "outputs": [
    {
     "name": "stdout",
     "output_type": "stream",
     "text": [
      "\n",
      "The downloaded binary packages are in\n",
      "\t/var/folders/k0/tk8gl4bj2_v2mbjx80ydsznw0000gn/T//RtmpCaGzan/downloaded_packages\n"
     ]
    },
    {
     "name": "stderr",
     "output_type": "stream",
     "text": [
      "Bioconductor version 3.9 (BiocManager 1.30.10), R 3.6.1 (2019-07-05)\n",
      "Installing package(s) 'SingleCellExperiment', 'GSEABase', 'msigdbr'\n"
     ]
    }
   ],
   "source": [
    "# パッケージインストール\n",
    "install.packages(c(\"BiocManager\", \"remotes\", \"IRdisplay\"), repos=\"http://cran.r-project.org\")\n",
    "BiocManager::install(c(\"SingleCellExperiment\", \"GSEABase\", \"msigdbr\"), suppressUpdates=TRUE)\n",
    "remotes::install_github(\"rikenbit/scTGIF\")\n",
    "\n",
    "# パッケージロード\n",
    "library(\"SingleCellExperiment\")\n",
    "library(\"GSEABase\")\n",
    "library(\"msigdbr\")\n",
    "library(\"scTGIF\")\n",
    "library(\"IRdisplay\")"
   ]
  },
  {
   "cell_type": "markdown",
   "metadata": {},
   "source": [
    "ここでは、[Barbara Treutlein, 2014, Nature](https://www.nature.com/articles/nature13173)の肺上皮細胞データを利用します\n",
    "\n",
    "<p><img alt=\"logo2\" width=\"1000\" src=\"https://dl.dropboxusercontent.com/s/zbxdzkdkfyk7ug5/lungepithelium.jpg\" /></p>\n",
    "\n",
    "\n"
   ]
  },
  {
   "cell_type": "code",
   "execution_count": null,
   "metadata": {},
   "outputs": [],
   "source": [
    "data(\"DistalLungEpithelium\") # 発現量行列\n",
    "data(\"label.DistalLungEpithelium\") # 細胞型ラベル\n",
    "data(\"pca.DistalLungEpithelium\") # PCAの二次元座標"
   ]
  },
  {
   "cell_type": "code",
   "execution_count": null,
   "metadata": {},
   "outputs": [],
   "source": [
    "par(ask=FALSE)\n",
    "plot(pca.DistalLungEpithelium, col=label.DistalLungEpithelium,\n",
    "\tpch=16, main=\"Distal lung epithelium dataset\",\n",
    "\txlab=\"PCA1\", ylab=\"PCA2\", bty=\"n\")\n",
    "text(0.1, 0.05, \"AT1\", col=\"#FF7F00\", cex=2)\n",
    "text(0.07, -0.15, \"AT2\", col=\"#E41A1C\", cex=2)\n",
    "text(0.13, -0.04, \"BP\", col=\"#A65628\", cex=2)\n",
    "text(0.125, -0.15, \"Clara\", col=\"#377EB8\", cex=2)\n",
    "text(0.09, -0.2, \"Cilliated\", col=\"#4DAF4A\", cex=2)"
   ]
  },
  {
   "cell_type": "markdown",
   "metadata": {},
   "source": [
    "scTGIFを実行するためには、他に[MSigDB](http://software.broadinstitute.org/gsea/msigdb/index.jsp)が提供している遺伝子セット（GMTファイル）が必要です\n",
    "\n",
    "特に、Supplementary Gene Sets for Single Cell Identitiesは、細胞型を分類するのに有用なマーカー遺伝子が含まれているので、それを用いるのもいいかもしれません\n",
    "\n",
    "ここでは、msigdbrパッケージのmsigdbr関数を使いHallmark gene sets（H）を利用します"
   ]
  },
  {
   "cell_type": "code",
   "execution_count": null,
   "metadata": {},
   "outputs": [],
   "source": [
    "m_df <- msigdbr(species = \"Mus musculus\", category = \"H\")[, c(\"gs_name\", \"entrez_gene\")]"
   ]
  },
  {
   "cell_type": "markdown",
   "metadata": {},
   "source": [
    "scTGIFは、GSEABaseパッケージで定義された、GeneSetCollectionオブジェクトを入力として要求します"
   ]
  },
  {
   "cell_type": "code",
   "execution_count": null,
   "metadata": {},
   "outputs": [],
   "source": [
    "hallmark = unique(m_df$gs_name)\n",
    "gsc <- lapply(hallmark, function(h){\n",
    "    target = which(m_df$gs_name == h)\n",
    "    geneIds = unique(as.character(m_df$entrez_gene[target]))\n",
    "    GeneSet(setName=h, geneIds)\n",
    "})\n",
    "gmt <- GeneSetCollection(gsc)"
   ]
  },
  {
   "cell_type": "markdown",
   "metadata": {},
   "source": [
    "または発現量行列はSingleCellExperimentオブジェクトに、二次元座標はreducedDimsスロットに登録します"
   ]
  },
  {
   "cell_type": "code",
   "execution_count": null,
   "metadata": {},
   "outputs": [],
   "source": [
    "sce <- SingleCellExperiment(\n",
    "    assays = list(counts = DistalLungEpithelium))\n",
    "reducedDims(sce) <- SimpleList(PCA=pca.DistalLungEpithelium)"
   ]
  },
  {
   "cell_type": "markdown",
   "metadata": {},
   "source": [
    "また、ここでは、CPMED正規化を使って、normcountsスロットに正規化済みデータを登録します"
   ]
  },
  {
   "cell_type": "code",
   "execution_count": null,
   "metadata": {},
   "outputs": [],
   "source": [
    "CPMED <- function(input){\n",
    "    libsize <- colSums(input)\n",
    "    median(libsize) * t(t(input) / libsize)\n",
    "}"
   ]
  },
  {
   "cell_type": "code",
   "execution_count": null,
   "metadata": {},
   "outputs": [],
   "source": [
    "normcounts(sce) <- log10(CPMED(counts(sce)) + 1)"
   ]
  },
  {
   "cell_type": "markdown",
   "metadata": {},
   "source": [
    "settingTGIF関数で各種設定を行います\n",
    "\n",
    "ここではPCAの二次元座標をレポートに用い、計算にはnormcountsスロットに登録されたCPMED値を使います"
   ]
  },
  {
   "cell_type": "code",
   "execution_count": null,
   "metadata": {},
   "outputs": [],
   "source": [
    "sce2 <- settingTGIF(sce, gmt, reducedDimNames=\"PCA\", assayNames=\"normcounts\")"
   ]
  },
  {
   "cell_type": "markdown",
   "metadata": {},
   "source": [
    "calcTGIFでjoint NMFという2つの行列$X_{1}$（1303遺伝子×2500グリット）、$X_{2}$（1303遺伝子×50機能ターム）を\n",
    "\n",
    "$X_{1} = (W + V_{1}) H_{1}$\n",
    "\n",
    "$X_{2} = (W + V_{2}) H_{2}$\n",
    "\n",
    "という風に同時に分解します\n",
    "\n",
    "この時に、共通の因子行列$W$を用いることで、2つの行列をお互いに関連づけさせながら分解することができます\n",
    "\n",
    "$H_{1}$と$H_{2}$の各々対応するベクトルを見比べることで、二次元プロットのどこらへんの細胞が、どのような遺伝子機能に関係しているのかが推測できます\n",
    "\n",
    "<p><img alt=\"logo3\" width=\"1000\" src=\"https://dl.dropboxusercontent.com/s/uth8c92we9g7w9b/jnmf.png\" /></p>"
   ]
  },
  {
   "cell_type": "code",
   "execution_count": null,
   "metadata": {},
   "outputs": [],
   "source": [
    "set.seed(1234)\n",
    "sce2 <- calcTGIF(sce2, rank=7)"
   ]
  },
  {
   "cell_type": "markdown",
   "metadata": {},
   "source": [
    "最後にreportTGIF関数でHTMLレポートを出力します"
   ]
  },
  {
   "cell_type": "code",
   "execution_count": null,
   "metadata": {
    "scrolled": false
   },
   "outputs": [],
   "source": [
    "d <- tempdir()\n",
    "reportTGIF(sce2, html.open=FALSE, out.dir=d,\n",
    "    title=\"scTGIF Report for DistalLungEpithelium dataset\", author=\"Koki Tsuyuzaki\")\n",
    "display_html(file=paste0(d, \"/index.html\"))"
   ]
  },
  {
   "cell_type": "code",
   "execution_count": null,
   "metadata": {
    "scrolled": false
   },
   "outputs": [],
   "source": [
    "sessionInfo()"
   ]
  },
  {
   "cell_type": "markdown",
   "metadata": {},
   "source": [
    "Colaboratory ノートブックの操作について詳しくは、<a href=\"/notebooks/basic_features_overview.ipynb\">Colaboratory の概要</a>をご覧ください。"
   ]
  }
 ],
 "metadata": {
  "colab": {
   "collapsed_sections": [],
   "name": "Colaboratory へようこそ",
   "provenance": [],
   "toc_visible": true
  },
  "kernelspec": {
   "display_name": "R",
   "language": "R",
   "name": "ir"
  },
  "language_info": {
   "codemirror_mode": "r",
   "file_extension": ".r",
   "mimetype": "text/x-r-source",
   "name": "R",
   "pygments_lexer": "r",
   "version": "3.6.1"
  }
 },
 "nbformat": 4,
 "nbformat_minor": 1
}
