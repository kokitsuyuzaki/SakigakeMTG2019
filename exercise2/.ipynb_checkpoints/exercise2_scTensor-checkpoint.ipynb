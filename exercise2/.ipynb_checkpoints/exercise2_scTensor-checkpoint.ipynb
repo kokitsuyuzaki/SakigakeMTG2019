{
 "cells": [
  {
   "cell_type": "markdown",
   "metadata": {
    "colab_type": "text",
    "id": "5fCEDCU_qrC0"
   },
   "source": [
    "<p><img alt=\"logo\" width=\"200\" src=\"https://dl.dropboxusercontent.com/s/nm3k2p6i3k6d6gl/sctensor.png\" align=\"left\" /></p>\n",
    "\n",
    "<h1>Exercise2: scTensorのデモ</h1>\n",
    "\n",
    "\n",
    "このノートブックでは、1細胞RNA-Seqデータ内に含まれる細胞間相互作用（CCI）を検出するためのR/Bioconductorパッケージ、scTensorの使い方について説明します"
   ]
  },
  {
   "cell_type": "markdown",
   "metadata": {},
   "source": [
    "まずは、このノートブックの実行に必要なパッケージのインストールとロードを行います"
   ]
  },
  {
   "cell_type": "code",
   "execution_count": null,
   "metadata": {
    "colab": {
     "height": 420
    },
    "colab_type": "code",
    "id": "xitplqMNk_Hc",
    "outputId": "ed4f60d2-878d-4056-c438-352dac39a112",
    "scrolled": true
   },
   "outputs": [],
   "source": [
    "# パッケージインストール\n",
    "install.packages(c(\"BiocManager\", \"IRdisplay\"), repos=\"http://cran.r-project.org\")\n",
    "BiocManager::install(c(\"SingleCellExperiment\", \"LRBase.Hsa.eg.db\", \"MeSH.Hsa.eg.db\"), suppressUpdates=TRUE)\n",
    "remotes::install_github(\"rikenbit/scTensor\")\n",
    "\n",
    "# パッケージロード\n",
    "library(\"scTensor\")\n",
    "library(\"SingleCellExperiment\")\n",
    "library(\"LRBase.Hsa.eg.db\")\n",
    "library(\"MeSH.Hsa.eg.db\")\n",
    "library(\"IRdisplay\")"
   ]
  },
  {
   "cell_type": "markdown",
   "metadata": {},
   "source": [
    "今回は、[Li, Li et al., 2017, Cell](https://www.sciencedirect.com/science/article/pii/S1934590917300784?via%3Dihub)で報告された、ヒトの性腺内部に含まれる生殖系細胞（Germline Cells）と、ニッチ環境を形成する体細胞（Somatic Cells）間のCCIについて調べます\n",
    "\n",
    "\n",
    "<p><img alt=\"logo2\" width=\"1000\" src=\"https://dl.dropboxusercontent.com/s/bax9wbdsulr15tj/germline.jpg\" /></p>\n",
    "\n",
    "[RNA-Seq Blog](https://www.rna-seqblog.com/single-cell-rna-seq-analysis-maps-development-of-human-germline-cells/)\n",
    "\n",
    "\n",
    "この論文に関係したデータは、以下の3つのRオブジェクトとして、scTensorパッケージ内に保存されているため、data関数で以下のように呼び出すことができます\n",
    "\n",
    "なお、__発現量行列の遺伝子は、テストデータとして公開する際、データサイズの制限で、[Highly Variable Genes](http://pklab.med.harvard.edu/scw2014/subpop_tutorial.html)という基準のもと、かなり数を減らしているので、ここでは、あくまでツールの操作感を知るためにこのデータを用います（生物学的考察までは保証しません）__\n",
    "\n",
    "例えば、この論文で注目している、BMPシグナル系のリガンド・受容体ペアの発現は、数を減らした関係で再現できていません"
   ]
  },
  {
   "cell_type": "code",
   "execution_count": null,
   "metadata": {},
   "outputs": [],
   "source": [
    "data(GermMale) # 発現量行列\n",
    "data(labelGermMale) # 細胞型ラベル\n",
    "data(tsneGermMale) # t-SNEの二次元座標"
   ]
  },
  {
   "cell_type": "markdown",
   "metadata": {},
   "source": [
    "以下のように、GermMaleは行列、labelGermMaleはベクトルです\n",
    "\n",
    "tsneGermMaleはRtsneという別のRパッケージの出力オブジェクトであり、tsneGermMale$Yの部分に、t-SNEの二次元座標が保管されています"
   ]
  },
  {
   "cell_type": "code",
   "execution_count": null,
   "metadata": {},
   "outputs": [],
   "source": [
    "is(GermMale) # 発現量行列\n",
    "is(labelGermMale) # 細胞型ラベル\n",
    "is(tsneGermMale) # Rtsne関数の出力オブジェクト\n",
    "is(tsneGermMale$Y) # t-SNEの二次元座標"
   ]
  },
  {
   "cell_type": "markdown",
   "metadata": {},
   "source": [
    "このt-SNEの図を見てわかるように、下側に位置する暖色系（赤、朱色、オレンジ）の点が性細胞、上側に位置する寒色系（薄緑、緑、水色、紫）の点が体細胞です"
   ]
  },
  {
   "cell_type": "code",
   "execution_count": null,
   "metadata": {},
   "outputs": [],
   "source": [
    "par(ask=FALSE)\n",
    "plot(tsneGermMale$Y, col=labelGermMale,\n",
    "\tpch=16, main=\"Germline - Somatic Niche Interaction\",\n",
    "\txlab=\"t-SNE1\", ylab=\"t-SNE2\", bty=\"n\")\n",
    "\n",
    "text(14, 5, \"FGC-1\", col=\"#9E0142\", cex=2)\n",
    "text(-4, -8, \"FGC-2\", col=\"#D53E4F\", cex=2)\n",
    "text(-10, 3, \"FGC-3\", col=\"#F46D43\", cex=2)\n",
    "text(5, 13, \"Soma-1\", col=\"#ABDDA4\", cex=2)\n",
    "text(-5, 22, \"Soma-2\", col=\"#66C2A5\", cex=2)\n",
    "text(0, 26, \"Soma-3\", col=\"#5E4FA2\", cex=2)\n",
    "text(13, 21, \"Soma-4\", col=\"#3288BD\", cex=2)"
   ]
  },
  {
   "cell_type": "markdown",
   "metadata": {},
   "source": [
    "scTensorの入力は、[SingleCellExperiment](https://www.bioconductor.org/packages/release/bioc/html/SingleCellExperiment.html)パッケージで定義された、SingleCellExperimentオブジェクトである必要があります\n",
    "\n",
    "SingleCellExperimentオブジェクトの作成は簡単で、SingleCellExperimentという名前の関数に、発現量行列を以下のように指定するだけです"
   ]
  },
  {
   "cell_type": "code",
   "execution_count": null,
   "metadata": {},
   "outputs": [],
   "source": [
    "sce <- SingleCellExperiment(assays=list(counts = GermMale))"
   ]
  },
  {
   "cell_type": "markdown",
   "metadata": {},
   "source": [
    "また、必須ではありませんが、最後のレポートの見やすさも考えて、推奨しているタスクとして、以下のようにこのsceオブジェクトに二次元の次元圧縮の座標を登録します"
   ]
  },
  {
   "cell_type": "code",
   "execution_count": null,
   "metadata": {},
   "outputs": [],
   "source": [
    "reducedDims(sce) <- SimpleList(TSNE=tsneGermMale$Y)"
   ]
  },
  {
   "cell_type": "markdown",
   "metadata": {},
   "source": [
    "これにより、tsneGermMale$Yは、sceのreducedDimsという項目（スロット）に登録されたことがわかります"
   ]
  },
  {
   "cell_type": "code",
   "execution_count": null,
   "metadata": {},
   "outputs": [],
   "source": [
    "reducedDims(sce)$TSNE"
   ]
  },
  {
   "cell_type": "markdown",
   "metadata": {},
   "source": [
    "正規化を行った遺伝子発現量をscTensorに与えることもできます\n",
    "\n",
    "例えば、細胞ごとの総発現量が、全細胞の総発現量の中央値になるように補正を行う、[Count per Median (CPMED)](https://www.biorxiv.org/content/10.1101/642595v2)正規化は以下のように実行することができます"
   ]
  },
  {
   "cell_type": "code",
   "execution_count": null,
   "metadata": {},
   "outputs": [],
   "source": [
    "CPMED <- function(input){\n",
    "    libsize <- colSums(input)\n",
    "    median(libsize) * t(t(input) / libsize)\n",
    "}\n",
    "normcounts(sce) <- log10(CPMED(counts(sce)) + 1)"
   ]
  },
  {
   "cell_type": "markdown",
   "metadata": {},
   "source": [
    "ここで、normcountsというスロットに正規化済みの値を登録したのは、正規化をしていないカウント値はcountsというスロットに登録してあるので、上書きしないように別のスロットを使いました"
   ]
  },
  {
   "cell_type": "code",
   "execution_count": null,
   "metadata": {},
   "outputs": [],
   "source": [
    "normcounts(sce)"
   ]
  },
  {
   "cell_type": "code",
   "execution_count": null,
   "metadata": {},
   "outputs": [],
   "source": [
    "counts(sce)"
   ]
  },
  {
   "cell_type": "markdown",
   "metadata": {},
   "source": [
    "次に、cellCellSettingという関数を使って、scTensorに必要なセッティング（リガンド・受容体ペアの検索、ラベル情報の登録など）を行います"
   ]
  },
  {
   "cell_type": "code",
   "execution_count": null,
   "metadata": {},
   "outputs": [],
   "source": [
    "cellCellSetting(sce, LRBase.Hsa.eg.db, labelGermMale, names(labelGermMale))"
   ]
  },
  {
   "cell_type": "markdown",
   "metadata": {},
   "source": [
    "cellCellRanks関数は、このすぐ後のcellCellDecomp関数で実行するテンソル分解のランク（圧縮次元数）のパラメーターを簡易的に設定します\n",
    "\n",
    "例えば、このデータでは、リガンドパターンと受容体パターン（後述）は各々4,3と見積もりました"
   ]
  },
  {
   "cell_type": "code",
   "execution_count": null,
   "metadata": {},
   "outputs": [],
   "source": [
    "rks <- cellCellRanks(sce, assayNames=\"normcounts\")\n",
    "rks$selected"
   ]
  },
  {
   "cell_type": "markdown",
   "metadata": {},
   "source": [
    "最後に、cellCellDecomp関数で、非負値テンソル分解を行います\n",
    "\n",
    "ランクはc(4,3)とし、正規化済みの値（normcounts）をここでは使うことにします"
   ]
  },
  {
   "cell_type": "code",
   "execution_count": null,
   "metadata": {
    "scrolled": true
   },
   "outputs": [],
   "source": [
    "set.seed(1234)\n",
    "cellCellDecomp(sce, ranks=rks$selected, assayNames=\"normcounts\")"
   ]
  },
  {
   "cell_type": "markdown",
   "metadata": {},
   "source": [
    "これにより、\n",
    "\n",
    "7×7×84の三階テンソル（$χ$）は、\n",
    "\n",
    "$\\chi = G A B$\n",
    "\n",
    "$A$（4×7, 因子行列）: 7細胞型におけるリガンドの発現の仕方4パターン\n",
    "\n",
    "$B$（3×7, 因子行列）: 7細胞型における受容体の発現の仕方3パターン\n",
    "\n",
    "$G$（4×3×84, コアテンソル）: 各リガンド・受容体ペアごとに、$A$の4パターンと$B$の3パターンの全組み合わせのうち、どの組み合わせと関連度が高いか\n",
    "\n",
    "\n",
    "と分解されます。\n",
    "\n",
    "\n",
    "\n",
    "\n",
    "最後に、cellCellReport関数で、HTMLレポートを出力します\n",
    "\n",
    "ここでは、Rのセッションを閉じると自動的に削除される一時ディレクトリ（**tempdir**）以下に、レポートファイルを保存しますが、自分のデータでscTensorを実行する際には、適宜自分の好きなところに設定したください\n",
    "\n",
    "**title**にこのレポートのタイトルを、**author**にこの解析の担当者名を書きます\n",
    "\n",
    "ここでは、**display_html**関数を使って、このノートブックにHTMLの出力を埋め込むので、あえて**html.open=FALSE**としていますが、ここをTRUEにするとレポートがWebブラウザで確認することもできます\n",
    "\n",
    "**upper**はどの細胞型と、どの細胞型とが、何のリガンド・受容体ペアで相互作用しているのか、という三項関係をレポートする際に、コアテンソルの大きい上位2つのみに注目するというオプションです（ここでは最大4*3=12まで見ることができます）\n",
    "\n",
    "**〜enrich**のところは、遺伝子の機能を調べる際に、エンリッチメント解析を行うのですが、その時にGene Ontology（GO）のみを使うとしています\n"
   ]
  },
  {
   "cell_type": "code",
   "execution_count": null,
   "metadata": {},
   "outputs": [],
   "source": [
    "d <- tempdir()\n",
    "cellCellReport(sce, reducedDimNames=\"TSNE\", assayNames=\"normcounts\",\n",
    "    title=\"Cell-cell interaction within Germline_Male, GSE86146\",\n",
    "    author=\"Koki Tsuyuzaki\", html.open=FALSE, upper=2, out.dir=d,\n",
    "    goenrich=TRUE, meshenrich=FALSE, reactomeenrich=FALSE,\n",
    "    doenrich=FALSE, ncgenrich=FALSE, dgnenrich=FALSE)\n",
    "display_html(file=paste0(d, \"/index.html\"))"
   ]
  },
  {
   "cell_type": "markdown",
   "metadata": {},
   "source": [
    "出力されたHTMLレポート（index.html）をダブルクリックすると、Webブラウザで以下のようなレポートを見ることができます\n",
    "\n",
    "\n",
    "このHTMLレポートは、この画面上で何でも調べ物ができるように作ってありますが、そのためかなり情報が多いので、ここでは開発者おすすめの読み進み方を紹介します"
   ]
  },
  {
   "cell_type": "markdown",
   "metadata": {},
   "source": [
    "まずは、**5. CCI-wise Hypergraph**を見てください\n",
    "\n",
    "<p><img alt=\"cciwise\" width=\"1000\" src=\"https://dl.dropboxusercontent.com/s/xbc6bmlx46nekhg/cciwise.png\" /></p>\n",
    "\n",
    "この図は今回のCCIテンソルの分解（$\\chi = G A B$）を可視化しています\n",
    "\n",
    "**Ligand Patterns**と書かれている上の段は、因子行列Aであり、色が赤くなるほど、リガンドがそこで発現する傾向があり、分解時に指定したパラメーターにより、このようなリガンドの発現の仕方が4パターンあるとしています\n",
    "\n",
    "同様に、**Receptor Patterns**と書かれている下の段は、因子行列Bであり、色が青くなるほど、受容体がそこで発現する傾向があり、分解時に指定したパラメーターにより、このような受容体の発現の仕方が3パターンあるとしています\n",
    "\n",
    "また**CCI-Strength**は、コアテンソル$G$（4×3×84）を、奥行き方向で和をとることで4×3の行列にして、その値を緑の線の太さに反映させて見せています\n",
    "\n",
    "つまり、この図で言えることは、**Ligand Patternsの4番目のパターンのようなリガンドの発現の仕方と、Receptor Patternsの1番目のパターンのような受容体の発現の仕方の組み合わせによるCCIが、データ全体で見ると多い**ことがわかります"
   ]
  },
  {
   "cell_type": "markdown",
   "metadata": {},
   "source": [
    "なお、このLigand/Receptor Patternsの何番目のパターンは、どの細胞型と対応しているのかというのは、**3. Ligand-Cell Patterns**や**4. Receptor-Cell Patterns**のところを見ることでわかります\n",
    "\n",
    "例えば、Ligand Patternsの4番目は、Male_Soma1やMale_Soma3といった細胞型名であることがわかります\n",
    "\n",
    "<p><img alt=\"ligand\" width=\"1000\" src=\"https://dl.dropboxusercontent.com/s/llq53fkjncx76i8/LigandPatterns.png\" /></p>\n",
    "<p><img alt=\"ligand2\" width=\"1000\" src=\"https://dl.dropboxusercontent.com/s/02yhnj45apd7b68/LigandPatterns_2.png\" /></p>"
   ]
  },
  {
   "cell_type": "markdown",
   "metadata": {},
   "source": [
    "また、例えば、Receptor Patternsの1番目は、Male_Soma3といった細胞型名であることがわかります\n",
    "\n",
    "<p><img alt=\"receptor\" width=\"1000\" src=\"https://dl.dropboxusercontent.com/s/1tsg6x3h8hik1fi/ReceptorPatterns.png\" /></p>\n",
    "\n",
    "<p><img alt=\"receptor2\" width=\"1000\" src=\"https://dl.dropboxusercontent.com/s/fsd65x5ds3ysm9r/ReceptorPatterns_2.png\" /></p>\n",
    "\n",
    "このような同じ細胞型同士でのCCIは、あまり論文では注目されない傾向がありますが（異種細胞型間が多い）、実データでは良く目にします"
   ]
  },
  {
   "cell_type": "markdown",
   "metadata": {},
   "source": [
    "では、どの細胞型同士がCCIしているのかというのはここでわかりましたが、これらが具体的にどのリガンド・受容体同士でCCIしているのか、**三項関係**を調べたいと思います\n",
    "\n",
    "これは**7. (Ligand-Cell, Receptor-Cell,)-related L-R Pairs**という項目で調べることができます\n",
    "\n",
    "ここでは、**CCI-Strength**の時と同様に、コアテンソルの値の大きさでソートして三項関係をリスト化しています\n",
    "\n",
    "<p><img alt=\"triplet\" width=\"1000\" src=\"https://dl.dropboxusercontent.com/s/zirjql3z1ua4eyr/Triplet.png\" /></p>\n",
    "\n",
    "例えば、ここでは、7.1のところに、4番目のリガンドパターン、1番目の受容体パターンと関係したリガンド・受容体ペアの情報が書かれているので、クリックしてみます"
   ]
  },
  {
   "cell_type": "markdown",
   "metadata": {},
   "source": [
    "(4,1,)パターンがまず赤線で確認することができます\n",
    "<p><img alt=\"triplet2\" width=\"1000\" src=\"https://dl.dropboxusercontent.com/s/lprhs8e4zmzqpyb/Triplet2.png\" /></p>\n",
    "\n",
    "\n",
    "このパターンと関係度が高いリガンド・受容体ペアは11あるということがわかります\n",
    "\n",
    "これらペア同士をエッジで繋いで、赤いノードはリガンド、青いノードは受容体として、ネットワーク図も描いています\n",
    "\n",
    "この図はインタラクティブに配置を移動することができるので、論文の図で利用する時などは、色々調整するのに便利です\n",
    "<p><img alt=\"triplet3\" width=\"1000\" src=\"https://dl.dropboxusercontent.com/s/izvib230b8gz4pe/Triplet3.png\" /></p>\n",
    "\n",
    "この11のリガンド・受容体ペアに関するあらゆる情報をリストにしているので、調べ物をする時は、ここのリンクを辿ると良いでしょう\n",
    "<p><img alt=\"triplet4\" width=\"1000\" src=\"https://dl.dropboxusercontent.com/s/63y089z59wkiyda/Triplet4.png\" /></p>\n",
    "\n",
    "また、この11のリガンド・受容体ペアが発現するというのは生物学的にどういう意味があるのかを調べるために、エンリッチメント解析を行い、あらゆる機能タームとの関連性を調べています\n",
    "<p><img alt=\"triplet5\" width=\"1000\" src=\"https://dl.dropboxusercontent.com/s/a9x403s2idwt5m4/Triplet5.png\" /></p>"
   ]
  },
  {
   "cell_type": "markdown",
   "metadata": {},
   "source": [
    "最後に、検出された三項関係が、自分の知識と一致するのかを調べるために、**6. Gene-wise Hypergraph**のところを見ます\n",
    "\n",
    "\n",
    "<p><img alt=\"genewise\" width=\"1000\" src=\"https://dl.dropboxusercontent.com/s/vl3cc1nbp7ohwvn/genewise.png\" /></p>\n",
    "\n",
    "\n",
    "例えば、自分がDCN（[Decorin](https://en.wikipedia.org/wiki/Decorin)、プロテオグリカンの一つで細胞外マトリックスの構成要素の一つ）に興味がある研究者である場合、DCNがリガンドとして働くのがわかっているのであれば、\n",
    "\n",
    "**Details of Ligand Gene-centric Overview (selected)**\n",
    "\n",
    "のところで調べることができます\n",
    "\n",
    "これらは先ほどの三項関係のリストで、一度でも関連性が見られたリガンド・受容体（selected）だけを厳選して、リガンドごとに集約したリストにしています\n",
    "\n",
    "\n",
    "例えば、ここではDCNはPDGFRAやPDGFRBと共発現していること、またそれらの共発は、(4,1,)パターンや、(4,3,)パターンといったCCIの仕方と関係しているということがわかります\n",
    "<p><img alt=\"dcn\" width=\"1000\" src=\"https://dl.dropboxusercontent.com/s/i2carph2go7o6ze/DCN.png\" /></p>\n",
    "\n",
    "\n",
    "逆に、注目している受容体がある場合は、\n",
    "\n",
    "**Details of Receptor Gene-centric Overview (selected)**\n",
    "\n",
    "のところを調べると、受容体ごとに集約されたリストを見ることができます\n",
    "\n",
    "\n",
    "また、全リガンド受容体ペア（LRBase.XXX.eg.db内の全リスト）のうち、そもそもCCIテンソルの中に含まれているのかは、\n",
    "\n",
    "\n",
    "**Details of Ligand Gene-centric Overview (all)**\n",
    "\n",
    "や\n",
    "\n",
    "**Details of Receptor Gene-centric Overview (all)**\n",
    "\n",
    "をクリックすることで調べることができます"
   ]
  },
  {
   "cell_type": "code",
   "execution_count": null,
   "metadata": {
    "scrolled": false
   },
   "outputs": [],
   "source": [
    "sessionInfo()"
   ]
  },
  {
   "cell_type": "markdown",
   "metadata": {},
   "source": [
    "Colaboratory ノートブックの操作について詳しくは、<a href=\"/notebooks/basic_features_overview.ipynb\">Colaboratory の概要</a>をご覧ください。"
   ]
  }
 ],
 "metadata": {
  "colab": {
   "collapsed_sections": [],
   "name": "Colaboratory へようこそ",
   "provenance": [],
   "toc_visible": true
  },
  "kernelspec": {
   "display_name": "R",
   "language": "R",
   "name": "ir"
  },
  "language_info": {
   "codemirror_mode": "r",
   "file_extension": ".r",
   "mimetype": "text/x-r-source",
   "name": "R",
   "pygments_lexer": "r",
   "version": "3.6.1"
  }
 },
 "nbformat": 4,
 "nbformat_minor": 1
}
